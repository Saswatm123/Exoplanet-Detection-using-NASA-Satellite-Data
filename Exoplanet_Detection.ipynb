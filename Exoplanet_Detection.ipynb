{
  "nbformat": 4,
  "nbformat_minor": 0,
  "metadata": {
    "colab": {
      "name": "Kepler_KAGGLE.ipynb",
      "version": "0.3.2",
      "provenance": [],
      "collapsed_sections": [],
      "toc_visible": true
    },
    "kernelspec": {
      "name": "python3",
      "display_name": "Python 3"
    }
  },
  "cells": [
    {
      "cell_type": "code",
      "metadata": {
        "id": "FAduLmgf44Bk",
        "colab_type": "code",
        "outputId": "9586291f-12f8-4144-d12e-e4d8a8e34ed7",
        "colab": {
          "base_uri": "https://localhost:8080/",
          "height": 52
        }
      },
      "source": [
        "%load_ext rpy2.ipython\n",
        "import pandas as pd\n",
        "import numpy as np\n",
        "from sklearn.model_selection import train_test_split\n",
        "\n",
        "data = pd.read_csv('Kepler.csv')"
      ],
      "execution_count": 0,
      "outputs": [
        {
          "output_type": "stream",
          "text": [
            "The rpy2.ipython extension is already loaded. To reload it, use:\n",
            "  %reload_ext rpy2.ipython\n"
          ],
          "name": "stdout"
        }
      ]
    },
    {
      "cell_type": "markdown",
      "metadata": {
        "id": "iVxorsHXno9f",
        "colab_type": "text"
      },
      "source": [
        "#Exploring the Dataset"
      ]
    },
    {
      "cell_type": "code",
      "metadata": {
        "id": "1cFTbC0Xf4Fb",
        "colab_type": "code",
        "colab": {}
      },
      "source": [
        "#Convenience functions\n",
        "\n",
        "def write_df(data, name = 'Kepler_from_python.csv'):\n",
        "  data.to_csv( './'+name,index = False)"
      ],
      "execution_count": 0,
      "outputs": []
    },
    {
      "cell_type": "code",
      "metadata": {
        "id": "Xp1ajuVbA1DK",
        "colab_type": "code",
        "colab": {}
      },
      "source": [
        "#Remove all indefinite cells since we can't test them, maybe look at them later\n",
        "\n",
        "data = data[data['koi_disposition'] != 'CANDIDATE']\n",
        "data.index = range(data.shape[0] )"
      ],
      "execution_count": 0,
      "outputs": []
    },
    {
      "cell_type": "code",
      "metadata": {
        "id": "hTtjR0-AUKvQ",
        "colab_type": "code",
        "outputId": "40c6ee6f-fb72-4dd0-b003-5a6faddc9d85",
        "colab": {
          "base_uri": "https://localhost:8080/",
          "height": 298
        }
      },
      "source": [
        "#Column dropping, all in one place so it can all be rerun in one go\n",
        "\n",
        "\n",
        "data.drop(['kepid', 'kepoi_name', 'kepler_name'], axis = 1, inplace = True)\n",
        "\n",
        "data.drop('rowid', axis = 1, inplace = True)\n",
        "\n",
        "data.drop('koi_tce_delivname', axis = 1, inplace = True)\n",
        "\n",
        "data.drop('koi_tce_plnt_num', axis = 1, inplace = True)\n",
        "\n",
        "\n",
        "'''Last checked is koi_fpflag_ec'''\n",
        "\n",
        "#Column renaming to get rid of redundant 'koi_' at beginning of each name\n",
        "data.columns = list(a.lstrip('koi_') for a in data.columns)\n",
        "\n",
        "data.head(5)"
      ],
      "execution_count": 0,
      "outputs": [
        {
          "output_type": "execute_result",
          "data": {
            "text/html": [
              "<div>\n",
              "<style scoped>\n",
              "    .dataframe tbody tr th:only-of-type {\n",
              "        vertical-align: middle;\n",
              "    }\n",
              "\n",
              "    .dataframe tbody tr th {\n",
              "        vertical-align: top;\n",
              "    }\n",
              "\n",
              "    .dataframe thead th {\n",
              "        text-align: right;\n",
              "    }\n",
              "</style>\n",
              "<table border=\"1\" class=\"dataframe\">\n",
              "  <thead>\n",
              "    <tr style=\"text-align: right;\">\n",
              "      <th></th>\n",
              "      <th>disposition</th>\n",
              "      <th>pdisposition</th>\n",
              "      <th>score</th>\n",
              "      <th>fpflag_nt</th>\n",
              "      <th>fpflag_ss</th>\n",
              "      <th>fpflag_co</th>\n",
              "      <th>fpflag_ec</th>\n",
              "      <th>period</th>\n",
              "      <th>period_err1</th>\n",
              "      <th>period_err2</th>\n",
              "      <th>time0bk</th>\n",
              "      <th>time0bk_err1</th>\n",
              "      <th>time0bk_err2</th>\n",
              "      <th>mpact</th>\n",
              "      <th>mpact_err1</th>\n",
              "      <th>mpact_err2</th>\n",
              "      <th>duration</th>\n",
              "      <th>duration_err1</th>\n",
              "      <th>duration_err2</th>\n",
              "      <th>depth</th>\n",
              "      <th>depth_err1</th>\n",
              "      <th>depth_err2</th>\n",
              "      <th>prad</th>\n",
              "      <th>prad_err1</th>\n",
              "      <th>prad_err2</th>\n",
              "      <th>teq</th>\n",
              "      <th>teq_err1</th>\n",
              "      <th>teq_err2</th>\n",
              "      <th>nsol</th>\n",
              "      <th>nsol_err1</th>\n",
              "      <th>nsol_err2</th>\n",
              "      <th>model_snr</th>\n",
              "      <th>steff</th>\n",
              "      <th>steff_err1</th>\n",
              "      <th>steff_err2</th>\n",
              "      <th>slogg</th>\n",
              "      <th>slogg_err1</th>\n",
              "      <th>slogg_err2</th>\n",
              "      <th>srad</th>\n",
              "      <th>srad_err1</th>\n",
              "      <th>srad_err2</th>\n",
              "      <th>ra</th>\n",
              "      <th>dec</th>\n",
              "      <th>epmag</th>\n",
              "    </tr>\n",
              "  </thead>\n",
              "  <tbody>\n",
              "    <tr>\n",
              "      <th>0</th>\n",
              "      <td>CONFIRMED</td>\n",
              "      <td>CANDIDATE</td>\n",
              "      <td>1.000</td>\n",
              "      <td>0</td>\n",
              "      <td>0</td>\n",
              "      <td>0</td>\n",
              "      <td>0</td>\n",
              "      <td>9.488036</td>\n",
              "      <td>2.775000e-05</td>\n",
              "      <td>-2.775000e-05</td>\n",
              "      <td>170.538750</td>\n",
              "      <td>0.002160</td>\n",
              "      <td>-0.002160</td>\n",
              "      <td>0.146</td>\n",
              "      <td>0.318</td>\n",
              "      <td>-0.146</td>\n",
              "      <td>2.95750</td>\n",
              "      <td>0.08190</td>\n",
              "      <td>-0.08190</td>\n",
              "      <td>615.8</td>\n",
              "      <td>19.5</td>\n",
              "      <td>-19.5</td>\n",
              "      <td>2.26</td>\n",
              "      <td>0.26</td>\n",
              "      <td>-0.15</td>\n",
              "      <td>793.0</td>\n",
              "      <td>NaN</td>\n",
              "      <td>NaN</td>\n",
              "      <td>93.59</td>\n",
              "      <td>29.45</td>\n",
              "      <td>-16.65</td>\n",
              "      <td>35.8</td>\n",
              "      <td>5455.0</td>\n",
              "      <td>81.0</td>\n",
              "      <td>-81.0</td>\n",
              "      <td>4.467</td>\n",
              "      <td>0.064</td>\n",
              "      <td>-0.096</td>\n",
              "      <td>0.927</td>\n",
              "      <td>0.105</td>\n",
              "      <td>-0.061</td>\n",
              "      <td>291.93423</td>\n",
              "      <td>48.141651</td>\n",
              "      <td>15.347</td>\n",
              "    </tr>\n",
              "    <tr>\n",
              "      <th>1</th>\n",
              "      <td>CONFIRMED</td>\n",
              "      <td>CANDIDATE</td>\n",
              "      <td>0.969</td>\n",
              "      <td>0</td>\n",
              "      <td>0</td>\n",
              "      <td>0</td>\n",
              "      <td>0</td>\n",
              "      <td>54.418383</td>\n",
              "      <td>2.479000e-04</td>\n",
              "      <td>-2.479000e-04</td>\n",
              "      <td>162.513840</td>\n",
              "      <td>0.003520</td>\n",
              "      <td>-0.003520</td>\n",
              "      <td>0.586</td>\n",
              "      <td>0.059</td>\n",
              "      <td>-0.443</td>\n",
              "      <td>4.50700</td>\n",
              "      <td>0.11600</td>\n",
              "      <td>-0.11600</td>\n",
              "      <td>874.8</td>\n",
              "      <td>35.5</td>\n",
              "      <td>-35.5</td>\n",
              "      <td>2.83</td>\n",
              "      <td>0.32</td>\n",
              "      <td>-0.19</td>\n",
              "      <td>443.0</td>\n",
              "      <td>NaN</td>\n",
              "      <td>NaN</td>\n",
              "      <td>9.11</td>\n",
              "      <td>2.87</td>\n",
              "      <td>-1.62</td>\n",
              "      <td>25.8</td>\n",
              "      <td>5455.0</td>\n",
              "      <td>81.0</td>\n",
              "      <td>-81.0</td>\n",
              "      <td>4.467</td>\n",
              "      <td>0.064</td>\n",
              "      <td>-0.096</td>\n",
              "      <td>0.927</td>\n",
              "      <td>0.105</td>\n",
              "      <td>-0.061</td>\n",
              "      <td>291.93423</td>\n",
              "      <td>48.141651</td>\n",
              "      <td>15.347</td>\n",
              "    </tr>\n",
              "    <tr>\n",
              "      <th>2</th>\n",
              "      <td>FALSE POSITIVE</td>\n",
              "      <td>FALSE POSITIVE</td>\n",
              "      <td>0.000</td>\n",
              "      <td>0</td>\n",
              "      <td>1</td>\n",
              "      <td>0</td>\n",
              "      <td>0</td>\n",
              "      <td>19.899140</td>\n",
              "      <td>1.494000e-05</td>\n",
              "      <td>-1.494000e-05</td>\n",
              "      <td>175.850252</td>\n",
              "      <td>0.000581</td>\n",
              "      <td>-0.000581</td>\n",
              "      <td>0.969</td>\n",
              "      <td>5.126</td>\n",
              "      <td>-0.077</td>\n",
              "      <td>1.78220</td>\n",
              "      <td>0.03410</td>\n",
              "      <td>-0.03410</td>\n",
              "      <td>10829.0</td>\n",
              "      <td>171.0</td>\n",
              "      <td>-171.0</td>\n",
              "      <td>14.60</td>\n",
              "      <td>3.92</td>\n",
              "      <td>-1.31</td>\n",
              "      <td>638.0</td>\n",
              "      <td>NaN</td>\n",
              "      <td>NaN</td>\n",
              "      <td>39.30</td>\n",
              "      <td>31.04</td>\n",
              "      <td>-10.49</td>\n",
              "      <td>76.3</td>\n",
              "      <td>5853.0</td>\n",
              "      <td>158.0</td>\n",
              "      <td>-176.0</td>\n",
              "      <td>4.544</td>\n",
              "      <td>0.044</td>\n",
              "      <td>-0.176</td>\n",
              "      <td>0.868</td>\n",
              "      <td>0.233</td>\n",
              "      <td>-0.078</td>\n",
              "      <td>297.00482</td>\n",
              "      <td>48.134129</td>\n",
              "      <td>15.436</td>\n",
              "    </tr>\n",
              "    <tr>\n",
              "      <th>3</th>\n",
              "      <td>FALSE POSITIVE</td>\n",
              "      <td>FALSE POSITIVE</td>\n",
              "      <td>0.000</td>\n",
              "      <td>0</td>\n",
              "      <td>1</td>\n",
              "      <td>0</td>\n",
              "      <td>0</td>\n",
              "      <td>1.736952</td>\n",
              "      <td>2.630000e-07</td>\n",
              "      <td>-2.630000e-07</td>\n",
              "      <td>170.307565</td>\n",
              "      <td>0.000115</td>\n",
              "      <td>-0.000115</td>\n",
              "      <td>1.276</td>\n",
              "      <td>0.115</td>\n",
              "      <td>-0.092</td>\n",
              "      <td>2.40641</td>\n",
              "      <td>0.00537</td>\n",
              "      <td>-0.00537</td>\n",
              "      <td>8079.2</td>\n",
              "      <td>12.8</td>\n",
              "      <td>-12.8</td>\n",
              "      <td>33.46</td>\n",
              "      <td>8.50</td>\n",
              "      <td>-2.83</td>\n",
              "      <td>1395.0</td>\n",
              "      <td>NaN</td>\n",
              "      <td>NaN</td>\n",
              "      <td>891.96</td>\n",
              "      <td>668.95</td>\n",
              "      <td>-230.35</td>\n",
              "      <td>505.6</td>\n",
              "      <td>5805.0</td>\n",
              "      <td>157.0</td>\n",
              "      <td>-174.0</td>\n",
              "      <td>4.564</td>\n",
              "      <td>0.053</td>\n",
              "      <td>-0.168</td>\n",
              "      <td>0.791</td>\n",
              "      <td>0.201</td>\n",
              "      <td>-0.067</td>\n",
              "      <td>285.53461</td>\n",
              "      <td>48.285210</td>\n",
              "      <td>15.597</td>\n",
              "    </tr>\n",
              "    <tr>\n",
              "      <th>4</th>\n",
              "      <td>CONFIRMED</td>\n",
              "      <td>CANDIDATE</td>\n",
              "      <td>1.000</td>\n",
              "      <td>0</td>\n",
              "      <td>0</td>\n",
              "      <td>0</td>\n",
              "      <td>0</td>\n",
              "      <td>2.525592</td>\n",
              "      <td>3.761000e-06</td>\n",
              "      <td>-3.761000e-06</td>\n",
              "      <td>171.595550</td>\n",
              "      <td>0.001130</td>\n",
              "      <td>-0.001130</td>\n",
              "      <td>0.701</td>\n",
              "      <td>0.235</td>\n",
              "      <td>-0.478</td>\n",
              "      <td>1.65450</td>\n",
              "      <td>0.04200</td>\n",
              "      <td>-0.04200</td>\n",
              "      <td>603.3</td>\n",
              "      <td>16.9</td>\n",
              "      <td>-16.9</td>\n",
              "      <td>2.75</td>\n",
              "      <td>0.88</td>\n",
              "      <td>-0.35</td>\n",
              "      <td>1406.0</td>\n",
              "      <td>NaN</td>\n",
              "      <td>NaN</td>\n",
              "      <td>926.16</td>\n",
              "      <td>874.33</td>\n",
              "      <td>-314.24</td>\n",
              "      <td>40.9</td>\n",
              "      <td>6031.0</td>\n",
              "      <td>169.0</td>\n",
              "      <td>-211.0</td>\n",
              "      <td>4.438</td>\n",
              "      <td>0.070</td>\n",
              "      <td>-0.210</td>\n",
              "      <td>1.046</td>\n",
              "      <td>0.334</td>\n",
              "      <td>-0.133</td>\n",
              "      <td>288.75488</td>\n",
              "      <td>48.226200</td>\n",
              "      <td>15.509</td>\n",
              "    </tr>\n",
              "  </tbody>\n",
              "</table>\n",
              "</div>"
            ],
            "text/plain": [
              "      disposition    pdisposition  score  ...         ra        dec   epmag\n",
              "0       CONFIRMED       CANDIDATE  1.000  ...  291.93423  48.141651  15.347\n",
              "1       CONFIRMED       CANDIDATE  0.969  ...  291.93423  48.141651  15.347\n",
              "2  FALSE POSITIVE  FALSE POSITIVE  0.000  ...  297.00482  48.134129  15.436\n",
              "3  FALSE POSITIVE  FALSE POSITIVE  0.000  ...  285.53461  48.285210  15.597\n",
              "4       CONFIRMED       CANDIDATE  1.000  ...  288.75488  48.226200  15.509\n",
              "\n",
              "[5 rows x 44 columns]"
            ]
          },
          "metadata": {
            "tags": []
          },
          "execution_count": 5
        }
      ]
    },
    {
      "cell_type": "code",
      "metadata": {
        "id": "ufisnYEvQDko",
        "colab_type": "code",
        "outputId": "0fac1e79-0c06-4e57-d694-f97a9493c284",
        "colab": {
          "base_uri": "https://localhost:8080/",
          "height": 298
        }
      },
      "source": [
        "#Replace remaining non numeric columns with numeric type\n",
        "\n",
        "data['disposition'] = data['disposition'].replace( {'FALSE POSITIVE' : 0, 'CONFIRMED' : 1} )\n",
        "\n",
        "data['pdisposition'] = data['pdisposition'].replace( {'FALSE POSITIVE' : 0, 'CANDIDATE' : 1} )\n",
        "\n",
        "data.head(5)"
      ],
      "execution_count": 0,
      "outputs": [
        {
          "output_type": "execute_result",
          "data": {
            "text/html": [
              "<div>\n",
              "<style scoped>\n",
              "    .dataframe tbody tr th:only-of-type {\n",
              "        vertical-align: middle;\n",
              "    }\n",
              "\n",
              "    .dataframe tbody tr th {\n",
              "        vertical-align: top;\n",
              "    }\n",
              "\n",
              "    .dataframe thead th {\n",
              "        text-align: right;\n",
              "    }\n",
              "</style>\n",
              "<table border=\"1\" class=\"dataframe\">\n",
              "  <thead>\n",
              "    <tr style=\"text-align: right;\">\n",
              "      <th></th>\n",
              "      <th>disposition</th>\n",
              "      <th>pdisposition</th>\n",
              "      <th>score</th>\n",
              "      <th>fpflag_nt</th>\n",
              "      <th>fpflag_ss</th>\n",
              "      <th>fpflag_co</th>\n",
              "      <th>fpflag_ec</th>\n",
              "      <th>period</th>\n",
              "      <th>period_err1</th>\n",
              "      <th>period_err2</th>\n",
              "      <th>time0bk</th>\n",
              "      <th>time0bk_err1</th>\n",
              "      <th>time0bk_err2</th>\n",
              "      <th>mpact</th>\n",
              "      <th>mpact_err1</th>\n",
              "      <th>mpact_err2</th>\n",
              "      <th>duration</th>\n",
              "      <th>duration_err1</th>\n",
              "      <th>duration_err2</th>\n",
              "      <th>depth</th>\n",
              "      <th>depth_err1</th>\n",
              "      <th>depth_err2</th>\n",
              "      <th>prad</th>\n",
              "      <th>prad_err1</th>\n",
              "      <th>prad_err2</th>\n",
              "      <th>teq</th>\n",
              "      <th>teq_err1</th>\n",
              "      <th>teq_err2</th>\n",
              "      <th>nsol</th>\n",
              "      <th>nsol_err1</th>\n",
              "      <th>nsol_err2</th>\n",
              "      <th>model_snr</th>\n",
              "      <th>steff</th>\n",
              "      <th>steff_err1</th>\n",
              "      <th>steff_err2</th>\n",
              "      <th>slogg</th>\n",
              "      <th>slogg_err1</th>\n",
              "      <th>slogg_err2</th>\n",
              "      <th>srad</th>\n",
              "      <th>srad_err1</th>\n",
              "      <th>srad_err2</th>\n",
              "      <th>ra</th>\n",
              "      <th>dec</th>\n",
              "      <th>epmag</th>\n",
              "    </tr>\n",
              "  </thead>\n",
              "  <tbody>\n",
              "    <tr>\n",
              "      <th>0</th>\n",
              "      <td>1</td>\n",
              "      <td>1</td>\n",
              "      <td>1.000</td>\n",
              "      <td>0</td>\n",
              "      <td>0</td>\n",
              "      <td>0</td>\n",
              "      <td>0</td>\n",
              "      <td>9.488036</td>\n",
              "      <td>2.775000e-05</td>\n",
              "      <td>-2.775000e-05</td>\n",
              "      <td>170.538750</td>\n",
              "      <td>0.002160</td>\n",
              "      <td>-0.002160</td>\n",
              "      <td>0.146</td>\n",
              "      <td>0.318</td>\n",
              "      <td>-0.146</td>\n",
              "      <td>2.95750</td>\n",
              "      <td>0.08190</td>\n",
              "      <td>-0.08190</td>\n",
              "      <td>615.8</td>\n",
              "      <td>19.5</td>\n",
              "      <td>-19.5</td>\n",
              "      <td>2.26</td>\n",
              "      <td>0.26</td>\n",
              "      <td>-0.15</td>\n",
              "      <td>793.0</td>\n",
              "      <td>NaN</td>\n",
              "      <td>NaN</td>\n",
              "      <td>93.59</td>\n",
              "      <td>29.45</td>\n",
              "      <td>-16.65</td>\n",
              "      <td>35.8</td>\n",
              "      <td>5455.0</td>\n",
              "      <td>81.0</td>\n",
              "      <td>-81.0</td>\n",
              "      <td>4.467</td>\n",
              "      <td>0.064</td>\n",
              "      <td>-0.096</td>\n",
              "      <td>0.927</td>\n",
              "      <td>0.105</td>\n",
              "      <td>-0.061</td>\n",
              "      <td>291.93423</td>\n",
              "      <td>48.141651</td>\n",
              "      <td>15.347</td>\n",
              "    </tr>\n",
              "    <tr>\n",
              "      <th>1</th>\n",
              "      <td>1</td>\n",
              "      <td>1</td>\n",
              "      <td>0.969</td>\n",
              "      <td>0</td>\n",
              "      <td>0</td>\n",
              "      <td>0</td>\n",
              "      <td>0</td>\n",
              "      <td>54.418383</td>\n",
              "      <td>2.479000e-04</td>\n",
              "      <td>-2.479000e-04</td>\n",
              "      <td>162.513840</td>\n",
              "      <td>0.003520</td>\n",
              "      <td>-0.003520</td>\n",
              "      <td>0.586</td>\n",
              "      <td>0.059</td>\n",
              "      <td>-0.443</td>\n",
              "      <td>4.50700</td>\n",
              "      <td>0.11600</td>\n",
              "      <td>-0.11600</td>\n",
              "      <td>874.8</td>\n",
              "      <td>35.5</td>\n",
              "      <td>-35.5</td>\n",
              "      <td>2.83</td>\n",
              "      <td>0.32</td>\n",
              "      <td>-0.19</td>\n",
              "      <td>443.0</td>\n",
              "      <td>NaN</td>\n",
              "      <td>NaN</td>\n",
              "      <td>9.11</td>\n",
              "      <td>2.87</td>\n",
              "      <td>-1.62</td>\n",
              "      <td>25.8</td>\n",
              "      <td>5455.0</td>\n",
              "      <td>81.0</td>\n",
              "      <td>-81.0</td>\n",
              "      <td>4.467</td>\n",
              "      <td>0.064</td>\n",
              "      <td>-0.096</td>\n",
              "      <td>0.927</td>\n",
              "      <td>0.105</td>\n",
              "      <td>-0.061</td>\n",
              "      <td>291.93423</td>\n",
              "      <td>48.141651</td>\n",
              "      <td>15.347</td>\n",
              "    </tr>\n",
              "    <tr>\n",
              "      <th>2</th>\n",
              "      <td>0</td>\n",
              "      <td>0</td>\n",
              "      <td>0.000</td>\n",
              "      <td>0</td>\n",
              "      <td>1</td>\n",
              "      <td>0</td>\n",
              "      <td>0</td>\n",
              "      <td>19.899140</td>\n",
              "      <td>1.494000e-05</td>\n",
              "      <td>-1.494000e-05</td>\n",
              "      <td>175.850252</td>\n",
              "      <td>0.000581</td>\n",
              "      <td>-0.000581</td>\n",
              "      <td>0.969</td>\n",
              "      <td>5.126</td>\n",
              "      <td>-0.077</td>\n",
              "      <td>1.78220</td>\n",
              "      <td>0.03410</td>\n",
              "      <td>-0.03410</td>\n",
              "      <td>10829.0</td>\n",
              "      <td>171.0</td>\n",
              "      <td>-171.0</td>\n",
              "      <td>14.60</td>\n",
              "      <td>3.92</td>\n",
              "      <td>-1.31</td>\n",
              "      <td>638.0</td>\n",
              "      <td>NaN</td>\n",
              "      <td>NaN</td>\n",
              "      <td>39.30</td>\n",
              "      <td>31.04</td>\n",
              "      <td>-10.49</td>\n",
              "      <td>76.3</td>\n",
              "      <td>5853.0</td>\n",
              "      <td>158.0</td>\n",
              "      <td>-176.0</td>\n",
              "      <td>4.544</td>\n",
              "      <td>0.044</td>\n",
              "      <td>-0.176</td>\n",
              "      <td>0.868</td>\n",
              "      <td>0.233</td>\n",
              "      <td>-0.078</td>\n",
              "      <td>297.00482</td>\n",
              "      <td>48.134129</td>\n",
              "      <td>15.436</td>\n",
              "    </tr>\n",
              "    <tr>\n",
              "      <th>3</th>\n",
              "      <td>0</td>\n",
              "      <td>0</td>\n",
              "      <td>0.000</td>\n",
              "      <td>0</td>\n",
              "      <td>1</td>\n",
              "      <td>0</td>\n",
              "      <td>0</td>\n",
              "      <td>1.736952</td>\n",
              "      <td>2.630000e-07</td>\n",
              "      <td>-2.630000e-07</td>\n",
              "      <td>170.307565</td>\n",
              "      <td>0.000115</td>\n",
              "      <td>-0.000115</td>\n",
              "      <td>1.276</td>\n",
              "      <td>0.115</td>\n",
              "      <td>-0.092</td>\n",
              "      <td>2.40641</td>\n",
              "      <td>0.00537</td>\n",
              "      <td>-0.00537</td>\n",
              "      <td>8079.2</td>\n",
              "      <td>12.8</td>\n",
              "      <td>-12.8</td>\n",
              "      <td>33.46</td>\n",
              "      <td>8.50</td>\n",
              "      <td>-2.83</td>\n",
              "      <td>1395.0</td>\n",
              "      <td>NaN</td>\n",
              "      <td>NaN</td>\n",
              "      <td>891.96</td>\n",
              "      <td>668.95</td>\n",
              "      <td>-230.35</td>\n",
              "      <td>505.6</td>\n",
              "      <td>5805.0</td>\n",
              "      <td>157.0</td>\n",
              "      <td>-174.0</td>\n",
              "      <td>4.564</td>\n",
              "      <td>0.053</td>\n",
              "      <td>-0.168</td>\n",
              "      <td>0.791</td>\n",
              "      <td>0.201</td>\n",
              "      <td>-0.067</td>\n",
              "      <td>285.53461</td>\n",
              "      <td>48.285210</td>\n",
              "      <td>15.597</td>\n",
              "    </tr>\n",
              "    <tr>\n",
              "      <th>4</th>\n",
              "      <td>1</td>\n",
              "      <td>1</td>\n",
              "      <td>1.000</td>\n",
              "      <td>0</td>\n",
              "      <td>0</td>\n",
              "      <td>0</td>\n",
              "      <td>0</td>\n",
              "      <td>2.525592</td>\n",
              "      <td>3.761000e-06</td>\n",
              "      <td>-3.761000e-06</td>\n",
              "      <td>171.595550</td>\n",
              "      <td>0.001130</td>\n",
              "      <td>-0.001130</td>\n",
              "      <td>0.701</td>\n",
              "      <td>0.235</td>\n",
              "      <td>-0.478</td>\n",
              "      <td>1.65450</td>\n",
              "      <td>0.04200</td>\n",
              "      <td>-0.04200</td>\n",
              "      <td>603.3</td>\n",
              "      <td>16.9</td>\n",
              "      <td>-16.9</td>\n",
              "      <td>2.75</td>\n",
              "      <td>0.88</td>\n",
              "      <td>-0.35</td>\n",
              "      <td>1406.0</td>\n",
              "      <td>NaN</td>\n",
              "      <td>NaN</td>\n",
              "      <td>926.16</td>\n",
              "      <td>874.33</td>\n",
              "      <td>-314.24</td>\n",
              "      <td>40.9</td>\n",
              "      <td>6031.0</td>\n",
              "      <td>169.0</td>\n",
              "      <td>-211.0</td>\n",
              "      <td>4.438</td>\n",
              "      <td>0.070</td>\n",
              "      <td>-0.210</td>\n",
              "      <td>1.046</td>\n",
              "      <td>0.334</td>\n",
              "      <td>-0.133</td>\n",
              "      <td>288.75488</td>\n",
              "      <td>48.226200</td>\n",
              "      <td>15.509</td>\n",
              "    </tr>\n",
              "  </tbody>\n",
              "</table>\n",
              "</div>"
            ],
            "text/plain": [
              "   disposition  pdisposition  score  ...         ra        dec   epmag\n",
              "0            1             1  1.000  ...  291.93423  48.141651  15.347\n",
              "1            1             1  0.969  ...  291.93423  48.141651  15.347\n",
              "2            0             0  0.000  ...  297.00482  48.134129  15.436\n",
              "3            0             0  0.000  ...  285.53461  48.285210  15.597\n",
              "4            1             1  1.000  ...  288.75488  48.226200  15.509\n",
              "\n",
              "[5 rows x 44 columns]"
            ]
          },
          "metadata": {
            "tags": []
          },
          "execution_count": 6
        }
      ]
    },
    {
      "cell_type": "code",
      "metadata": {
        "id": "g0kkvphF5lFx",
        "colab_type": "code",
        "colab": {}
      },
      "source": [
        "#Returns every remaining column that has missing data along with ratios\n",
        "\n",
        "def missing_sorted():\n",
        "  missing_data = list( (cname, data[cname].isna().mean() ) for cname in data.columns if data[cname].isna().sum() != 0)\n",
        "  return sorted(missing_data, key = lambda x : x[1], reverse = True)"
      ],
      "execution_count": 0,
      "outputs": []
    },
    {
      "cell_type": "markdown",
      "metadata": {
        "id": "Y7Ikhu7GpKHs",
        "colab_type": "text"
      },
      "source": [
        "#Imputation & dealing with NaNs"
      ]
    },
    {
      "cell_type": "markdown",
      "metadata": {
        "id": "uHNGzIXkp0F8",
        "colab_type": "text"
      },
      "source": [
        "This plots the number of samples that are missing each number of features"
      ]
    },
    {
      "cell_type": "code",
      "metadata": {
        "id": "aMl_yIAOtseS",
        "colab_type": "code",
        "outputId": "7c53473d-76f0-45f5-c4ae-d9794e2f15a3",
        "colab": {
          "base_uri": "https://localhost:8080/",
          "height": 512
        }
      },
      "source": [
        "import matplotlib.pyplot as plt\n",
        "import numpy as np\n",
        "%matplotlib inline\n",
        "\n",
        "x_bins = [0] * len(data.columns)\n",
        "\n",
        "for row in data.iterrows():\n",
        "  x_bins[sum(row[1].isna() )] += 1\n",
        "\n",
        "_ = plt.figure(figsize = (15, 8) ) #(x, y)\n",
        "_ = plt.bar(range(len(x_bins) ), x_bins, align = 'center' )\n",
        "_ = plt.xticks(range(len(x_bins) ), range(len(x_bins) ) )\n",
        "_ = plt.title(label = '# of rows per # of missing features', size = 30, color = 'y')"
      ],
      "execution_count": 0,
      "outputs": [
        {
          "output_type": "display_data",
          "data": {
            "image/png": "[encoded data removed]",
            "text/plain": [
              "<Figure size 1080x576 with 1 Axes>"
            ]
          },
          "metadata": {
            "tags": []
          }
        }
      ]
    },
    {
      "cell_type": "markdown",
      "metadata": {
        "id": "HbD7xQsXpbPJ",
        "colab_type": "text"
      },
      "source": [
        "I am going to proceed by dropping samples with too many NaNs. My primary concern is that some missing features may have low, or even zero significance, so samples that have high NaNs at first might actually be less unimportant than previously thought. I will address this later."
      ]
    },
    {
      "cell_type": "code",
      "metadata": {
        "id": "d_vG-nZcN1e3",
        "colab_type": "code",
        "outputId": "5b0aaf4c-4e91-467b-e4ba-f465bd614a12",
        "colab": {
          "base_uri": "https://localhost:8080/",
          "height": 512
        }
      },
      "source": [
        "#Dropping samples missing >= 9 features\n",
        "\n",
        "data = data.drop( list(i[0] for i in data.iterrows() if sum(i[1].isna() ) >= 9 ), axis = 0 )\n",
        "\n",
        "data.index = range(data.shape[0] )\n",
        "\n",
        "x_bins = [0] * len(data.columns)\n",
        "\n",
        "for row in data.iterrows():\n",
        "  x_bins[sum(row[1].isna() )] += 1\n",
        "\n",
        "_ = plt.figure(figsize = (15, 8) ) #(x, y)\n",
        "_ = plt.bar(range(len(x_bins) ), x_bins, align = 'center' )\n",
        "_ = plt.xticks(range(len(x_bins) ), range(len(x_bins) ) )\n",
        "_ = plt.title(label = '# of rows per # of missing features', size = 30, color = 'y')"
      ],
      "execution_count": 0,
      "outputs": [
        {
          "output_type": "display_data",
          "data": {
            "image/png": "[encoded data removed]",
            "text/plain": [
              "<Figure size 1080x576 with 1 Axes>"
            ]
          },
          "metadata": {
            "tags": []
          }
        }
      ]
    },
    {
      "cell_type": "code",
      "metadata": {
        "id": "woiR5HMycV_p",
        "colab_type": "code",
        "outputId": "8c763452-896d-4910-bba4-baa286bd99ed",
        "colab": {
          "base_uri": "https://localhost:8080/",
          "height": 177
        }
      },
      "source": [
        "missing_sorted()"
      ],
      "execution_count": 0,
      "outputs": [
        {
          "output_type": "execute_result",
          "data": {
            "text/plain": [
              "[('teq_err1', 1.0),\n",
              " ('teq_err2', 1.0),\n",
              " ('score', 0.11526794742163801),\n",
              " ('steff_err2', 0.013577928643651597),\n",
              " ('steff_err1', 0.011411237902643362),\n",
              " ('slogg_err1', 0.011411237902643362),\n",
              " ('slogg_err2', 0.011411237902643362),\n",
              " ('srad_err1', 0.011411237902643362),\n",
              " ('srad_err2', 0.011411237902643362)]"
            ]
          },
          "metadata": {
            "tags": []
          },
          "execution_count": 10
        }
      ]
    },
    {
      "cell_type": "code",
      "metadata": {
        "id": "-8xY-O6IbO-s",
        "colab_type": "code",
        "colab": {}
      },
      "source": [
        "#Drop these cols since 100% are missing\n",
        "\n",
        "data.drop(['teq_err1', 'teq_err2'], axis = 1, inplace = True)"
      ],
      "execution_count": 0,
      "outputs": []
    },
    {
      "cell_type": "code",
      "metadata": {
        "id": "pMtdGKAbfdah",
        "colab_type": "code",
        "outputId": "460d32ca-9035-42cc-8147-058430d8ab2a",
        "colab": {
          "base_uri": "https://localhost:8080/",
          "height": 141
        }
      },
      "source": [
        "missing_sorted()"
      ],
      "execution_count": 0,
      "outputs": [
        {
          "output_type": "execute_result",
          "data": {
            "text/plain": [
              "[('score', 0.11526794742163801),\n",
              " ('steff_err2', 0.013577928643651597),\n",
              " ('steff_err1', 0.011411237902643362),\n",
              " ('slogg_err1', 0.011411237902643362),\n",
              " ('slogg_err2', 0.011411237902643362),\n",
              " ('srad_err1', 0.011411237902643362),\n",
              " ('srad_err2', 0.011411237902643362)]"
            ]
          },
          "metadata": {
            "tags": []
          },
          "execution_count": 12
        }
      ]
    },
    {
      "cell_type": "code",
      "metadata": {
        "id": "szFk4WK0f9KZ",
        "colab_type": "code",
        "outputId": "f3107855-2996-4659-c3d5-2b7673d4cb96",
        "colab": {
          "base_uri": "https://localhost:8080/",
          "height": 486
        }
      },
      "source": [
        "vals = list()\n",
        "\n",
        "for row in data.iterrows():\n",
        "  if not np.isnan(row[1]['score']):\n",
        "    vals.append(row[1]['score'])\n",
        "    \n",
        "vals = list( int(num * 1000) for num in vals )\n",
        "\n",
        "_ = plt.figure(figsize = (15, 8) ) #(x, y)\n",
        "_ = plt.hist(vals, bins = (max(vals) - min(vals) ) )"
      ],
      "execution_count": 0,
      "outputs": [
        {
          "output_type": "display_data",
          "data": {
            "image/png": "[encoded data removed]",
            "text/plain": [
              "<Figure size 1080x576 with 1 Axes>"
            ]
          },
          "metadata": {
            "tags": []
          }
        }
      ]
    },
    {
      "cell_type": "markdown",
      "metadata": {
        "id": "D_ejXRwHrQ4Y",
        "colab_type": "text"
      },
      "source": [
        "Since NaNs seem to be clustered, I will run linear regression starting with the column with the least NaNs to impute the NaNs, and moving up into the column with the most NaNs"
      ]
    },
    {
      "cell_type": "code",
      "metadata": {
        "id": "h4XYPqEYhu3Q",
        "colab_type": "code",
        "outputId": "1357e6c7-3e69-4414-d0ae-4bd5eb74978c",
        "colab": {
          "base_uri": "https://localhost:8080/",
          "height": 515
        }
      },
      "source": [
        "from sklearn.linear_model import LinearRegression\n",
        "from sklearn.preprocessing import StandardScaler\n",
        "\n",
        "regressor = LinearRegression(n_jobs = -1)\n",
        "\n",
        "data_for_imputation = data.copy()\n",
        "full_data = data.copy() #dont touch this, this is for getting na indexes\n",
        "\n",
        "order = missing_sorted()[::-1]\n",
        "\n",
        "data_for_imputation.drop( list(a[0] for a in missing_sorted() ), inplace = True, axis = 1 )\n",
        "\n",
        "for colname, _ in order:\n",
        "  \n",
        "  impute_estimations = list()\n",
        "  naindexes = list()\n",
        "\n",
        "  for index in range(full_data.shape[0] ):\n",
        "    if pd.isna(data[colname][index]):\n",
        "      naindexes.append(index)\n",
        "\n",
        "  cleanindexes = list(a for a in range(full_data.shape[0] ) if a not in naindexes )\n",
        "\n",
        "  target = full_data[colname][ ~pd.isna(full_data[colname]) ]\n",
        "\n",
        "  base   = data_for_imputation[ ~pd.isna(full_data[colname]) ]\n",
        "\n",
        "  base_unknown = data_for_imputation[ pd.isna(full_data[colname]) ]\n",
        "\n",
        "  regressor.fit(base, target)\n",
        "\n",
        "  impute_estimations = list(regressor.predict(base_unknown) )\n",
        "\n",
        "  for index in naindexes:\n",
        "    data[colname][index] = impute_estimations[0]\n",
        "    impute_estimations.pop(0)\n",
        "\n",
        "  data_for_imputation[colname] = data[colname].copy()"
      ],
      "execution_count": 0,
      "outputs": [
        {
          "output_type": "stream",
          "text": [
            "/usr/local/lib/python3.6/dist-packages/ipykernel_launcher.py:35: SettingWithCopyWarning: \n",
            "A value is trying to be set on a copy of a slice from a DataFrame\n",
            "\n",
            "See the caveats in the documentation: http://pandas.pydata.org/pandas-docs/stable/indexing.html#indexing-view-versus-copy\n",
            "/usr/local/lib/python3.6/dist-packages/ipykernel_launcher.py:35: SettingWithCopyWarning: \n",
            "A value is trying to be set on a copy of a slice from a DataFrame\n",
            "\n",
            "See the caveats in the documentation: http://pandas.pydata.org/pandas-docs/stable/indexing.html#indexing-view-versus-copy\n",
            "/usr/local/lib/python3.6/dist-packages/ipykernel_launcher.py:35: SettingWithCopyWarning: \n",
            "A value is trying to be set on a copy of a slice from a DataFrame\n",
            "\n",
            "See the caveats in the documentation: http://pandas.pydata.org/pandas-docs/stable/indexing.html#indexing-view-versus-copy\n",
            "/usr/local/lib/python3.6/dist-packages/ipykernel_launcher.py:35: SettingWithCopyWarning: \n",
            "A value is trying to be set on a copy of a slice from a DataFrame\n",
            "\n",
            "See the caveats in the documentation: http://pandas.pydata.org/pandas-docs/stable/indexing.html#indexing-view-versus-copy\n",
            "/usr/local/lib/python3.6/dist-packages/ipykernel_launcher.py:35: SettingWithCopyWarning: \n",
            "A value is trying to be set on a copy of a slice from a DataFrame\n",
            "\n",
            "See the caveats in the documentation: http://pandas.pydata.org/pandas-docs/stable/indexing.html#indexing-view-versus-copy\n",
            "/usr/local/lib/python3.6/dist-packages/ipykernel_launcher.py:35: SettingWithCopyWarning: \n",
            "A value is trying to be set on a copy of a slice from a DataFrame\n",
            "\n",
            "See the caveats in the documentation: http://pandas.pydata.org/pandas-docs/stable/indexing.html#indexing-view-versus-copy\n",
            "/usr/local/lib/python3.6/dist-packages/ipykernel_launcher.py:35: SettingWithCopyWarning: \n",
            "A value is trying to be set on a copy of a slice from a DataFrame\n",
            "\n",
            "See the caveats in the documentation: http://pandas.pydata.org/pandas-docs/stable/indexing.html#indexing-view-versus-copy\n"
          ],
          "name": "stderr"
        }
      ]
    },
    {
      "cell_type": "markdown",
      "metadata": {
        "id": "ewh5QFgCrt-L",
        "colab_type": "text"
      },
      "source": [
        "# Feature Exploration"
      ]
    },
    {
      "cell_type": "code",
      "metadata": {
        "id": "JKQ_mknWfbWx",
        "colab_type": "code",
        "colab": {}
      },
      "source": [
        "train, test = train_test_split(data, train_size = .7, random_state = 817812019)\n",
        "from sklearn.preprocessing import StandardScaler\n",
        "from sklearn.metrics import confusion_matrix\n",
        "\n",
        "train_X = train.iloc[:,1:]\n",
        "train_y = train.iloc[:,0]\n",
        "\n",
        "test_X = test.iloc[:,1:]\n",
        "test_y = test.iloc[:,0]"
      ],
      "execution_count": 0,
      "outputs": []
    },
    {
      "cell_type": "markdown",
      "metadata": {
        "id": "G8mHgdMNspsL",
        "colab_type": "text"
      },
      "source": [
        "##Feature Selection/Denoising using LASSO"
      ]
    },
    {
      "cell_type": "markdown",
      "metadata": {
        "id": "a-00jwTWtPlh",
        "colab_type": "text"
      },
      "source": [
        "###I will run LASSO twice - the first time for removing features that don't contribute and features that are mostly shadowed by noise, and the second for observing stronger prediction signal contributions when the stronger predictors are isolated from the noise"
      ]
    },
    {
      "cell_type": "code",
      "metadata": {
        "id": "DwK-fi3Im1qU",
        "colab_type": "code",
        "outputId": "84ee5975-84b2-43f9-d447-0373a4b0f820",
        "colab": {
          "base_uri": "https://localhost:8080/",
          "height": 304
        }
      },
      "source": [
        "from sklearn.linear_model import LogisticRegression\n",
        "\n",
        "scaler = StandardScaler()\n",
        "\n",
        "scaled_train_X = scaler.fit_transform(train_X)\n",
        "\n",
        "logreg = LogisticRegression(n_jobs = -1, penalty = 'l1', verbose = 4)\n",
        "\n",
        "logreg.fit(scaled_train_X, train_y)\n",
        "\n",
        "print(logreg.coef_, logreg.intercept_)"
      ],
      "execution_count": 0,
      "outputs": [
        {
          "output_type": "stream",
          "text": [
            "[LibLinear][[ 7.28331609e+00  1.04948809e+00 -1.13521158e-01 -1.88421362e-01\n",
            "  -6.72920577e-01 -1.08508222e+00  3.94024832e-02 -3.98180423e-01\n",
            "   1.86048754e-01  5.08828702e-02  0.00000000e+00 -2.01821789e-02\n",
            "  -5.35365049e-01 -9.61970975e-01  0.00000000e+00  1.00190065e-01\n",
            "  -9.28179705e-01  2.00968566e-01 -1.48536480e+00  0.00000000e+00\n",
            "   0.00000000e+00  0.00000000e+00  0.00000000e+00  0.00000000e+00\n",
            "  -8.79858256e-02  0.00000000e+00  0.00000000e+00  0.00000000e+00\n",
            "  -8.25533520e-01  2.46822820e-01 -2.69873354e-01  8.96850519e-01\n",
            "   1.52129809e-03  1.91755985e-01  5.55083350e-01 -8.91607192e-02\n",
            "  -9.95832515e-01  0.00000000e+00 -5.52595567e-02  7.29214698e-02\n",
            "   0.00000000e+00]] [0.]\n"
          ],
          "name": "stdout"
        },
        {
          "output_type": "stream",
          "text": [
            "/usr/local/lib/python3.6/dist-packages/sklearn/linear_model/logistic.py:432: FutureWarning: Default solver will be changed to 'lbfgs' in 0.22. Specify a solver to silence this warning.\n",
            "  FutureWarning)\n",
            "/usr/local/lib/python3.6/dist-packages/sklearn/linear_model/logistic.py:1544: UserWarning: 'n_jobs' > 1 does not have any effect when 'solver' is set to 'liblinear'. Got 'n_jobs' = 2.\n",
            "  \" = {}.\".format(effective_n_jobs(self.n_jobs)))\n"
          ],
          "name": "stderr"
        }
      ]
    },
    {
      "cell_type": "code",
      "metadata": {
        "id": "pyBxo4XjoM3K",
        "colab_type": "code",
        "outputId": "7409333a-b804-449a-8dd9-c40beacc5917",
        "colab": {
          "base_uri": "https://localhost:8080/",
          "height": 570
        }
      },
      "source": [
        "_ = plt.figure(figsize = (15, 8) ) #(x, y)\n",
        "\n",
        "_ = plt.bar(range(len(logreg.coef_[0] ) ), logreg.coef_[0], align = 'center' )\n",
        "\n",
        "_ = plt.xticks(range(len(logreg.coef_[0]) ), data.columns[1:], color = 'w', rotation = 'vertical' )\n",
        "\n",
        "_ = plt.title(label = 'weight per feature', size = 30, color = 'y')"
      ],
      "execution_count": 0,
      "outputs": [
        {
          "output_type": "display_data",
          "data": {
            "image/png": "[encoded data removed]",
            "text/plain": [
              "<Figure size 1080x576 with 1 Axes>"
            ]
          },
          "metadata": {
            "tags": []
          }
        }
      ]
    },
    {
      "cell_type": "code",
      "metadata": {
        "id": "iGn0LMQGrmFw",
        "colab_type": "code",
        "outputId": "2a524a1b-97b4-4246-af6e-a26dd43d087c",
        "colab": {
          "base_uri": "https://localhost:8080/",
          "height": 746
        }
      },
      "source": [
        "z = zip(logreg.coef_[0], data.columns[1:] )\n",
        "z_sorted = sorted(list(z), key = lambda x : -abs(x[0]) )\n",
        "z_sorted"
      ],
      "execution_count": 0,
      "outputs": [
        {
          "output_type": "execute_result",
          "data": {
            "text/plain": [
              "[(7.283316088134279, 'pdisposition'),\n",
              " (-1.4853648046821277, 'depth'),\n",
              " (-1.08508222108908, 'fpflag_ec'),\n",
              " (1.049488086036865, 'score'),\n",
              " (-0.9958325146621064, 'srad_err1'),\n",
              " (-0.9619709754134725, 'mpact_err1'),\n",
              " (-0.9281797050184606, 'duration_err1'),\n",
              " (0.8968505187134684, 'steff_err2'),\n",
              " (-0.8255335200684286, 'model_snr'),\n",
              " (-0.6729205772516476, 'fpflag_co'),\n",
              " (0.5550833504490289, 'slogg_err2'),\n",
              " (-0.5353650486463158, 'mpact'),\n",
              " (-0.3981804227864444, 'period_err1'),\n",
              " (-0.26987335449635724, 'steff_err1'),\n",
              " (0.2468228202840267, 'steff'),\n",
              " (0.20096856561305887, 'duration_err2'),\n",
              " (0.19175598490956391, 'slogg_err1'),\n",
              " (-0.18842136224243486, 'fpflag_ss'),\n",
              " (0.1860487537498109, 'period_err2'),\n",
              " (-0.11352115808864711, 'fpflag_nt'),\n",
              " (0.10019006466969377, 'duration'),\n",
              " (-0.08916071915293185, 'srad'),\n",
              " (-0.08798582564136462, 'teq'),\n",
              " (0.07292146982863641, 'dec'),\n",
              " (-0.055259556726519096, 'ra'),\n",
              " (0.05088287022490969, 'time0bk'),\n",
              " (0.039402483232790754, 'period'),\n",
              " (-0.020182178874215126, 'time0bk_err2'),\n",
              " (0.0015212980858649997, 'slogg'),\n",
              " (0.0, 'time0bk_err1'),\n",
              " (0.0, 'mpact_err2'),\n",
              " (0.0, 'depth_err1'),\n",
              " (0.0, 'depth_err2'),\n",
              " (0.0, 'prad'),\n",
              " (0.0, 'prad_err1'),\n",
              " (0.0, 'prad_err2'),\n",
              " (0.0, 'nsol'),\n",
              " (0.0, 'nsol_err1'),\n",
              " (0.0, 'nsol_err2'),\n",
              " (0.0, 'srad_err2'),\n",
              " (0.0, 'epmag')]"
            ]
          },
          "metadata": {
            "tags": []
          },
          "execution_count": 18
        }
      ]
    },
    {
      "cell_type": "code",
      "metadata": {
        "id": "2n95C-Fn1BYR",
        "colab_type": "code",
        "colab": {}
      },
      "source": [
        "zero_importance = list(a[1] for a in z_sorted if a[0] == 0)\n",
        "data.drop(zero_importance, axis = 1, inplace = True)"
      ],
      "execution_count": 0,
      "outputs": []
    },
    {
      "cell_type": "code",
      "metadata": {
        "id": "stv57j0o1Wv0",
        "colab_type": "code",
        "outputId": "c0f52f03-4cd3-48e0-a97c-6de6199c2f73",
        "colab": {
          "base_uri": "https://localhost:8080/",
          "height": 250
        }
      },
      "source": [
        "from sklearn.linear_model import LogisticRegression\n",
        "\n",
        "scaler = StandardScaler()\n",
        "\n",
        "scaled_train_X = scaler.fit_transform(train_X.drop(zero_importance, axis = 1) )\n",
        "\n",
        "logreg = LogisticRegression(n_jobs = -1, penalty = 'l1', verbose = 4)\n",
        "\n",
        "logreg.fit(scaled_train_X, train_y)\n",
        "\n",
        "print(logreg.coef_, logreg.intercept_)"
      ],
      "execution_count": 0,
      "outputs": [
        {
          "output_type": "stream",
          "text": [
            "[LibLinear][[ 7.16518354e+00  1.10726015e+00 -1.23798192e-01 -1.98820608e-01\n",
            "  -6.76017039e-01 -1.06906906e+00  3.79700530e-02 -1.23566577e-01\n",
            "   4.51777936e-01  5.10267532e-02 -1.86854014e-02 -5.25239872e-01\n",
            "  -9.34414271e-01  1.01387940e-01 -5.72068708e-01  5.47586629e-01\n",
            "  -1.44078076e+00 -8.34500633e-02 -8.19207884e-01  2.46765866e-01\n",
            "  -2.61040325e-01  8.99956077e-01  4.77995091e-03  1.87327253e-01\n",
            "   5.52573824e-01 -8.61349853e-02 -9.80026707e-01 -5.36652820e-02\n",
            "   7.33117756e-02]] [0.]\n"
          ],
          "name": "stdout"
        },
        {
          "output_type": "stream",
          "text": [
            "/usr/local/lib/python3.6/dist-packages/sklearn/linear_model/logistic.py:432: FutureWarning: Default solver will be changed to 'lbfgs' in 0.22. Specify a solver to silence this warning.\n",
            "  FutureWarning)\n",
            "/usr/local/lib/python3.6/dist-packages/sklearn/linear_model/logistic.py:1544: UserWarning: 'n_jobs' > 1 does not have any effect when 'solver' is set to 'liblinear'. Got 'n_jobs' = 2.\n",
            "  \" = {}.\".format(effective_n_jobs(self.n_jobs)))\n"
          ],
          "name": "stderr"
        }
      ]
    },
    {
      "cell_type": "code",
      "metadata": {
        "id": "aqAt8KVu2r9M",
        "colab_type": "code",
        "outputId": "28ff0918-77b7-4458-beee-f07831088aea",
        "colab": {
          "base_uri": "https://localhost:8080/",
          "height": 570
        }
      },
      "source": [
        "_ = plt.figure(figsize = (15, 8) ) #(x, y)\n",
        "\n",
        "_ = plt.bar(range(len(logreg.coef_[0] ) ), logreg.coef_[0], align = 'center' )\n",
        "\n",
        "_ = plt.xticks(range(len(logreg.coef_[0]) ), data.columns[1:], color = 'w', rotation = 'vertical' )\n",
        "\n",
        "_ = plt.title(label = 'weight per feature', size = 30, color = 'y')"
      ],
      "execution_count": 0,
      "outputs": [
        {
          "output_type": "display_data",
          "data": {
            "image/png": "[encoded data removed]",
            "text/plain": [
              "<Figure size 1080x576 with 1 Axes>"
            ]
          },
          "metadata": {
            "tags": []
          }
        }
      ]
    },
    {
      "cell_type": "code",
      "metadata": {
        "id": "6lE1U48Y26r6",
        "colab_type": "code",
        "outputId": "0b7709e4-6991-4218-d7b9-e731e068a3ec",
        "colab": {
          "base_uri": "https://localhost:8080/",
          "height": 72
        }
      },
      "source": [
        "second_gen = zip(logreg.coef_[0], data.columns[1:])\n",
        "second_gen_sorted = sorted(list(second_gen), key = lambda x : -abs(x[0]) )\n",
        "print(z_sorted)\n",
        "print(second_gen_sorted)"
      ],
      "execution_count": 0,
      "outputs": [
        {
          "output_type": "stream",
          "text": [
            "[(7.283316088134279, 'pdisposition'), (-1.4853648046821277, 'depth'), (-1.08508222108908, 'fpflag_ec'), (1.049488086036865, 'score'), (-0.9958325146621064, 'srad_err1'), (-0.9619709754134725, 'mpact_err1'), (-0.9281797050184606, 'duration_err1'), (0.8968505187134684, 'steff_err2'), (-0.8255335200684286, 'model_snr'), (-0.6729205772516476, 'fpflag_co'), (0.5550833504490289, 'slogg_err2'), (-0.5353650486463158, 'mpact'), (-0.3981804227864444, 'period_err1'), (-0.26987335449635724, 'steff_err1'), (0.2468228202840267, 'steff'), (0.20096856561305887, 'duration_err2'), (0.19175598490956391, 'slogg_err1'), (-0.18842136224243486, 'fpflag_ss'), (0.1860487537498109, 'period_err2'), (-0.11352115808864711, 'fpflag_nt'), (0.10019006466969377, 'duration'), (-0.08916071915293185, 'srad'), (-0.08798582564136462, 'teq'), (0.07292146982863641, 'dec'), (-0.055259556726519096, 'ra'), (0.05088287022490969, 'time0bk'), (0.039402483232790754, 'period'), (-0.020182178874215126, 'time0bk_err2'), (0.0015212980858649997, 'slogg'), (0.0, 'time0bk_err1'), (0.0, 'mpact_err2'), (0.0, 'depth_err1'), (0.0, 'depth_err2'), (0.0, 'prad'), (0.0, 'prad_err1'), (0.0, 'prad_err2'), (0.0, 'nsol'), (0.0, 'nsol_err1'), (0.0, 'nsol_err2'), (0.0, 'srad_err2'), (0.0, 'epmag')]\n",
            "[(7.165183540803063, 'pdisposition'), (-1.4407807615177677, 'depth'), (1.1072601523410286, 'score'), (-1.069069056393286, 'fpflag_ec'), (-0.9800267070526346, 'srad_err1'), (-0.9344142708526748, 'mpact_err1'), (0.8999560771734803, 'steff_err2'), (-0.8192078839105168, 'model_snr'), (-0.6760170385254374, 'fpflag_co'), (-0.5720687081104202, 'duration_err1'), (0.5525738235183785, 'slogg_err2'), (0.5475866285642002, 'duration_err2'), (-0.5252398719402249, 'mpact'), (0.4517779360145304, 'period_err2'), (-0.26104032485963974, 'steff_err1'), (0.24676586599391814, 'steff'), (-0.19882060758953865, 'fpflag_ss'), (0.18732725307687745, 'slogg_err1'), (-0.12379819225946963, 'fpflag_nt'), (-0.12356657664723181, 'period_err1'), (0.10138793997183666, 'duration'), (-0.0861349852998672, 'srad'), (-0.08345006326786618, 'teq'), (0.07331177561317158, 'dec'), (-0.05366528200640241, 'ra'), (0.05102675321333678, 'time0bk'), (0.03797005298074776, 'period'), (-0.018685401352599, 'time0bk_err2'), (0.00477995090571672, 'slogg')]\n"
          ],
          "name": "stdout"
        }
      ]
    },
    {
      "cell_type": "markdown",
      "metadata": {
        "id": "uZ2Di6KM6iF3",
        "colab_type": "text"
      },
      "source": [
        "In the second run, the magnitudes of the weights are larger, but some positions are swapped, implying some out of the remaining features are pairwise or groupwise correlated. I will run PCA to decorrelate the features so I can use a smaller feature space."
      ]
    },
    {
      "cell_type": "code",
      "metadata": {
        "id": "cPxitzz_AGvG",
        "colab_type": "code",
        "outputId": "87369546-8f2b-4b0b-ab9a-61b663a27ab1",
        "colab": {
          "base_uri": "https://localhost:8080/",
          "height": 512
        }
      },
      "source": [
        "lasso_train_X = train_X.drop(zero_importance, axis = 1)\n",
        "\n",
        "from sklearn.decomposition import PCA\n",
        "\n",
        "pca = PCA()\n",
        "\n",
        "pca_scaler = StandardScaler()\n",
        "scaled_lasso_train_X = pca_scaler.fit_transform(lasso_train_X)\n",
        "\n",
        "pca.fit(scaled_lasso_train_X)\n",
        "\n",
        "_ = plt.figure(figsize = (15, 8) )\n",
        "_ = plt.grid()\n",
        "_ = plt.xticks( range(len(pca.explained_variance_ratio_) + 1 ) )\n",
        "_ = plt.yticks( np.arange(0,1.05,.05) )\n",
        "_ = plt.plot( range(len(pca.explained_variance_ratio_) + 1 ), list( sum(pca.explained_variance_ratio_[:num_comps] ) for num_comps in range(1 + len(pca.explained_variance_ratio_) ) ) )\n",
        "_ = plt.title( label = '% variance explained per # components', size = 30, color = 'y' )"
      ],
      "execution_count": 0,
      "outputs": [
        {
          "output_type": "display_data",
          "data": {
            "image/png": "[encoded data removed]",
            "text/plain": [
              "<Figure size 1080x576 with 1 Axes>"
            ]
          },
          "metadata": {
            "tags": []
          }
        }
      ]
    },
    {
      "cell_type": "markdown",
      "metadata": {
        "id": "sLVnNCbT_J5-",
        "colab_type": "text"
      },
      "source": [
        "We only need 19 Principal Components to describe 95% of the variance in the data."
      ]
    },
    {
      "cell_type": "code",
      "metadata": {
        "id": "GXptlCV2Nes2",
        "colab_type": "code",
        "colab": {}
      },
      "source": [
        "component_reduced_train_X = pca.transform(scaled_lasso_train_X)\n",
        "component_reduced_train_X = np.array( list(vec[:19] for vec in component_reduced_train_X ) )"
      ],
      "execution_count": 0,
      "outputs": []
    },
    {
      "cell_type": "markdown",
      "metadata": {
        "id": "VIJfkPtEF6xi",
        "colab_type": "text"
      },
      "source": [
        "#Modeling"
      ]
    },
    {
      "cell_type": "markdown",
      "metadata": {
        "id": "nBQCAAANF9Lk",
        "colab_type": "text"
      },
      "source": [
        "##ElasticNet + GridSearchCV"
      ]
    },
    {
      "cell_type": "code",
      "metadata": {
        "id": "QS1UqV0jTCB-",
        "colab_type": "code",
        "outputId": "6a468a98-f92f-4c80-c0ea-fb774884bfdf",
        "colab": {
          "base_uri": "https://localhost:8080/",
          "height": 390
        }
      },
      "source": [
        "enet = LogisticRegression(penalty = 'elasticnet', n_jobs = -1, solver = 'saga')\n",
        "from sklearn.model_selection import GridSearchCV\n",
        "\n",
        "prenet_scaler = StandardScaler()\n",
        "comp_reduced_scaled_train_X = prenet_scaler.fit_transform(component_reduced_train_X)\n",
        "\n",
        "param_grid = {\n",
        "    'l1_ratio' : np.arange(0, 1.05, .05)\n",
        "}\n",
        "\n",
        "GSCV = GridSearchCV(enet, param_grid = param_grid, n_jobs = -1, verbose = 5, cv = 5)\n",
        "\n",
        "GSCV.fit(comp_reduced_scaled_train_X, train_y)\n"
      ],
      "execution_count": 0,
      "outputs": [
        {
          "output_type": "stream",
          "text": [
            "Fitting 5 folds for each of 21 candidates, totalling 105 fits\n"
          ],
          "name": "stdout"
        },
        {
          "output_type": "stream",
          "text": [
            "[Parallel(n_jobs=-1)]: Using backend LokyBackend with 2 concurrent workers.\n",
            "[Parallel(n_jobs=-1)]: Done  14 tasks      | elapsed:    3.3s\n",
            "[Parallel(n_jobs=-1)]: Done  68 tasks      | elapsed:   12.1s\n",
            "[Parallel(n_jobs=-1)]: Done 105 out of 105 | elapsed:   18.2s finished\n",
            "/usr/local/lib/python3.6/dist-packages/sklearn/linear_model/sag.py:337: ConvergenceWarning: The max_iter was reached which means the coef_ did not converge\n",
            "  \"the coef_ did not converge\", ConvergenceWarning)\n"
          ],
          "name": "stderr"
        },
        {
          "output_type": "execute_result",
          "data": {
            "text/plain": [
              "GridSearchCV(cv=5, error_score='raise-deprecating',\n",
              "             estimator=LogisticRegression(C=1.0, class_weight=None, dual=False,\n",
              "                                          fit_intercept=True,\n",
              "                                          intercept_scaling=1, l1_ratio=None,\n",
              "                                          max_iter=100, multi_class='warn',\n",
              "                                          n_jobs=-1, penalty='elasticnet',\n",
              "                                          random_state=None, solver='saga',\n",
              "                                          tol=0.0001, verbose=0,\n",
              "                                          warm_start=False),\n",
              "             iid='warn', n_jobs=-1,\n",
              "             param_grid={'l1_ratio': array([0.  , 0.05, 0.1 , 0.15, 0.2 , 0.25, 0.3 , 0.35, 0.4 , 0.45, 0.5 ,\n",
              "       0.55, 0.6 , 0.65, 0.7 , 0.75, 0.8 , 0.85, 0.9 , 0.95, 1.  ])},\n",
              "             pre_dispatch='2*n_jobs', refit=True, return_train_score=False,\n",
              "             scoring=None, verbose=5)"
            ]
          },
          "metadata": {
            "tags": []
          },
          "execution_count": 32
        }
      ]
    },
    {
      "cell_type": "code",
      "metadata": {
        "id": "q6iUYecpVERF",
        "colab_type": "code",
        "outputId": "f4a9b883-dc92-4f90-8608-1ddcb4e77137",
        "colab": {
          "base_uri": "https://localhost:8080/",
          "height": 70
        }
      },
      "source": [
        "print('Best params are', GSCV.best_params_)\n",
        "\n",
        "best_enet = GSCV.best_estimator_\n",
        "\n",
        "def pipeline(data):\n",
        "  lasso_data = data.drop(zero_importance, axis = 1)\n",
        "  scaled_lasso_data = pca_scaler.transform(lasso_data)\n",
        "  reduced_scaled_lasso_data = pca.transform(scaled_lasso_data)\n",
        "  reduced_pcomp = np.array(list(vec[:19] for vec in reduced_scaled_lasso_data) )\n",
        "  reduced_pcomp_scaled = prenet_scaler.transform(reduced_pcomp)\n",
        "  return reduced_pcomp_scaled\n",
        "\n",
        "transformed_test_X = pipeline(test_X)\n",
        "\n",
        "predicted = best_enet.predict(transformed_test_X)\n",
        "\n",
        "confusion_matrix(y_pred = predicted, y_true = test_y)"
      ],
      "execution_count": 0,
      "outputs": [
        {
          "output_type": "stream",
          "text": [
            "Best params are {'l1_ratio': 0.0}\n"
          ],
          "name": "stdout"
        },
        {
          "output_type": "execute_result",
          "data": {
            "text/plain": [
              "array([[1380,    0],\n",
              "       [  18,  679]])"
            ]
          },
          "metadata": {
            "tags": []
          },
          "execution_count": 33
        }
      ]
    },
    {
      "cell_type": "markdown",
      "metadata": {
        "id": "5mxROMFlBB24",
        "colab_type": "text"
      },
      "source": [
        "The ElasticNet converged to Ridge Regression on its own through Grid Search."
      ]
    },
    {
      "cell_type": "markdown",
      "metadata": {
        "id": "PTUohm7JGF0Y",
        "colab_type": "text"
      },
      "source": [
        "##Support Vector Machine + GridSearchCV"
      ]
    },
    {
      "cell_type": "markdown",
      "metadata": {
        "id": "HS-lT3XTEH3b",
        "colab_type": "text"
      },
      "source": [
        "For SVM, since there are a lot of parameters and the runtime scales by n^2, I can't brute force grid search unless I want it to take 4 hours. I will start a wide grid search and zoom in on grid lines of interest"
      ]
    },
    {
      "cell_type": "code",
      "metadata": {
        "id": "Q7aMEQ3fbkSr",
        "colab_type": "code",
        "outputId": "520a3e23-0c2d-4ecd-df70-e5005974c25e",
        "colab": {
          "base_uri": "https://localhost:8080/",
          "height": 408
        }
      },
      "source": [
        "from sklearn.svm import SVC\n",
        "\n",
        "param_grid = [\n",
        "    {\n",
        "        'C' : list(np.arange(start = .25, stop = 1.1, step = .25) ),\n",
        "        'kernel' : ['rbf'],\n",
        "        'gamma' : list(np.arange(start = .3, stop = 1.51, step = .3) )\n",
        "    },\n",
        "    {\n",
        "        'C' : list(np.arange(start = .25, stop = 1.1, step = .25) ),\n",
        "        'kernel' : ['poly'],\n",
        "        'gamma' : list(np.arange(start = .3, stop = 1.51, step = .3) ),\n",
        "        'degree' : list(np.arange(start = 1, stop = 5) )\n",
        "    }\n",
        "]\n",
        "\n",
        "svc = SVC()\n",
        "\n",
        "GSCV = GridSearchCV(svc, param_grid = param_grid, n_jobs = -1, verbose = 5, cv = 5)\n",
        "GSCV.fit(comp_reduced_scaled_train_X, train_y)"
      ],
      "execution_count": 0,
      "outputs": [
        {
          "output_type": "stream",
          "text": [
            "Fitting 5 folds for each of 100 candidates, totalling 500 fits\n"
          ],
          "name": "stdout"
        },
        {
          "output_type": "stream",
          "text": [
            "[Parallel(n_jobs=-1)]: Using backend LokyBackend with 2 concurrent workers.\n",
            "[Parallel(n_jobs=-1)]: Done  14 tasks      | elapsed:    7.8s\n",
            "[Parallel(n_jobs=-1)]: Done  68 tasks      | elapsed:   44.4s\n",
            "[Parallel(n_jobs=-1)]: Done 158 tasks      | elapsed:  1.2min\n",
            "[Parallel(n_jobs=-1)]: Done 358 tasks      | elapsed:  1.4min\n",
            "[Parallel(n_jobs=-1)]: Done 500 out of 500 | elapsed:  1.6min finished\n"
          ],
          "name": "stderr"
        },
        {
          "output_type": "execute_result",
          "data": {
            "text/plain": [
              "GridSearchCV(cv=5, error_score='raise-deprecating',\n",
              "             estimator=SVC(C=1.0, cache_size=200, class_weight=None, coef0=0.0,\n",
              "                           decision_function_shape='ovr', degree=3,\n",
              "                           gamma='auto_deprecated', kernel='rbf', max_iter=-1,\n",
              "                           probability=False, random_state=None, shrinking=True,\n",
              "                           tol=0.001, verbose=False),\n",
              "             iid='warn', n_jobs=-1,\n",
              "             param_grid=[{'C': [0.25, 0.5, 0.75, 1.0],\n",
              "                          'gamma': [0.3, 0.6, 0.8999999999999999, 1.2, 1.5],\n",
              "                          'kernel': ['rbf']},\n",
              "                         {'C': [0.25, 0.5, 0.75, 1.0], 'degree': [1, 2, 3, 4],\n",
              "                          'gamma': [0.3, 0.6, 0.8999999999999999, 1.2, 1.5],\n",
              "                          'kernel': ['poly']}],\n",
              "             pre_dispatch='2*n_jobs', refit=True, return_train_score=False,\n",
              "             scoring=None, verbose=5)"
            ]
          },
          "metadata": {
            "tags": []
          },
          "execution_count": 34
        }
      ]
    },
    {
      "cell_type": "code",
      "metadata": {
        "id": "YneZqPYttWdN",
        "colab_type": "code",
        "outputId": "c27af1a4-b2a2-4d65-a1a5-1d647053637f",
        "colab": {
          "base_uri": "https://localhost:8080/",
          "height": 70
        }
      },
      "source": [
        "print(GSCV.best_params_)\n",
        "\n",
        "confusion_matrix(y_pred = GSCV.best_estimator_.predict(transformed_test_X), y_true = test_y)"
      ],
      "execution_count": 0,
      "outputs": [
        {
          "output_type": "stream",
          "text": [
            "{'C': 0.25, 'degree': 1, 'gamma': 0.3, 'kernel': 'poly'}\n"
          ],
          "name": "stdout"
        },
        {
          "output_type": "execute_result",
          "data": {
            "text/plain": [
              "array([[1380,    0],\n",
              "       [  18,  679]])"
            ]
          },
          "metadata": {
            "tags": []
          },
          "execution_count": 28
        }
      ]
    },
    {
      "cell_type": "code",
      "metadata": {
        "id": "ELwY4kequLyQ",
        "colab_type": "code",
        "outputId": "310031a8-2d40-4d10-8b84-70502961b7a0",
        "colab": {
          "base_uri": "https://localhost:8080/",
          "height": 426
        }
      },
      "source": [
        "param_grid = {\n",
        "        'C' : list(np.arange(start = .001, stop = .26, step = .05) ),\n",
        "        'kernel' : ['poly'],\n",
        "        'gamma' : list(np.arange(start = 0, stop = .31, step = .05) ),\n",
        "        'degree' : list(np.arange(start = 1, stop = 5) )\n",
        "    }\n",
        "\n",
        "svc = SVC()\n",
        "\n",
        "GSCV = GridSearchCV(svc, param_grid = param_grid, n_jobs = -1, verbose = 5, cv = 5)\n",
        "GSCV.fit(comp_reduced_scaled_train_X, train_y)"
      ],
      "execution_count": 0,
      "outputs": [
        {
          "output_type": "stream",
          "text": [
            "[Parallel(n_jobs=-1)]: Using backend LokyBackend with 2 concurrent workers.\n"
          ],
          "name": "stderr"
        },
        {
          "output_type": "stream",
          "text": [
            "Fitting 5 folds for each of 168 candidates, totalling 840 fits\n"
          ],
          "name": "stdout"
        },
        {
          "output_type": "stream",
          "text": [
            "[Parallel(n_jobs=-1)]: Done  14 tasks      | elapsed:    4.6s\n",
            "[Parallel(n_jobs=-1)]: Done  68 tasks      | elapsed:   23.2s\n",
            "[Parallel(n_jobs=-1)]: Done 158 tasks      | elapsed:   50.1s\n",
            "[Parallel(n_jobs=-1)]: Done 349 tasks      | elapsed:  1.3min\n",
            "[Parallel(n_jobs=-1)]: Done 632 tasks      | elapsed:  2.0min\n",
            "[Parallel(n_jobs=-1)]: Done 840 out of 840 | elapsed:  2.4min finished\n"
          ],
          "name": "stderr"
        },
        {
          "output_type": "execute_result",
          "data": {
            "text/plain": [
              "GridSearchCV(cv=5, error_score='raise-deprecating',\n",
              "             estimator=SVC(C=1.0, cache_size=200, class_weight=None, coef0=0.0,\n",
              "                           decision_function_shape='ovr', degree=3,\n",
              "                           gamma='auto_deprecated', kernel='rbf', max_iter=-1,\n",
              "                           probability=False, random_state=None, shrinking=True,\n",
              "                           tol=0.001, verbose=False),\n",
              "             iid='warn', n_jobs=-1,\n",
              "             param_grid={'C': [0.001, 0.051000000000000004, 0.101,\n",
              "                               0.15100000000000002, 0.201, 0.251],\n",
              "                         'degree': [1, 2, 3, 4],\n",
              "                         'gamma': [0.0, 0.05, 0.1, 0.15000000000000002, 0.2,\n",
              "                                   0.25, 0.30000000000000004],\n",
              "                         'kernel': ['poly']},\n",
              "             pre_dispatch='2*n_jobs', refit=True, return_train_score=False,\n",
              "             scoring=None, verbose=5)"
            ]
          },
          "metadata": {
            "tags": []
          },
          "execution_count": 29
        }
      ]
    },
    {
      "cell_type": "code",
      "metadata": {
        "id": "81Gjw0bRvYIg",
        "colab_type": "code",
        "outputId": "e2241c44-78f1-45e6-c115-e64145001d7c",
        "colab": {
          "base_uri": "https://localhost:8080/",
          "height": 70
        }
      },
      "source": [
        "print(GSCV.best_params_)\n",
        "confusion_matrix(y_pred = GSCV.best_estimator_.predict(transformed_test_X), y_true = test_y)"
      ],
      "execution_count": 0,
      "outputs": [
        {
          "output_type": "stream",
          "text": [
            "{'C': 0.051000000000000004, 'degree': 1, 'gamma': 0.05, 'kernel': 'poly'}\n"
          ],
          "name": "stdout"
        },
        {
          "output_type": "execute_result",
          "data": {
            "text/plain": [
              "array([[1380,    0],\n",
              "       [  18,  679]])"
            ]
          },
          "metadata": {
            "tags": []
          },
          "execution_count": 30
        }
      ]
    }
  ]
}